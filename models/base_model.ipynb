{
 "cells": [
  {
   "cell_type": "code",
   "execution_count": null,
   "outputs": [],
   "source": [
    "from tensorflow.python.keras import models\n",
    "from tensorflow.keras import layers\n",
    "from tensorflow.python.keras import losses\n",
    "from tensorflow.keras import optimizers\n",
    "from tensorflow.python.keras import activations\n",
    "from tensorflow.python.keras import callbacks\n",
    "from tensorflow.python.keras import initializers\n",
    "from tensorflow.python.keras import backend\n",
    "from tensorflow.python.keras import metrics\n",
    "from tensorflow.python import keras\n",
    "import tensorflow as tf\n",
    "import keras_tuner as kt\n",
    "import numpy as np\n",
    "from sklearn.model_selection import train_test_split"
   ],
   "metadata": {
    "collapsed": false,
    "pycharm": {
     "name": "#%%\n"
    }
   }
  },
  {
   "cell_type": "code",
   "execution_count": null,
   "outputs": [],
   "source": [
    "print(tf.__version__)\n",
    "print(np.__version__)\n",
    "gpu = tf.config.list_physical_devices('GPU')\n",
    "print(gpu)\n",
    "tf.config.experimental.set_memory_growth(gpu[0], True)"
   ],
   "metadata": {
    "collapsed": false,
    "pycharm": {
     "name": "#%%\n"
    }
   }
  },
  {
   "cell_type": "code",
   "execution_count": null,
   "outputs": [],
   "source": [
    "train_x_rc = np.load('../data/train_x_rc.npy')\n",
    "train_x_other = np.load('../data/train_x_other.npy')\n",
    "targets = np.load('../data/target.npy')\n",
    "print(train_x_other.shape)\n",
    "print(train_x_rc.shape)\n",
    "print(targets.shape)"
   ],
   "metadata": {
    "collapsed": false,
    "pycharm": {
     "name": "#%%\n"
    }
   }
  },
  {
   "cell_type": "code",
   "execution_count": null,
   "outputs": [],
   "source": [
    "rc_num = 15\n",
    "ox = 10\n",
    "train_x = np.concatenate([train_x_rc, train_x_other], axis=-1)\n",
    "x_train, x_test, y_train, y_test = train_test_split(train_x, targets, test_size=0.5, random_state=43)\n",
    "x_test, x_valid, y_test, y_valid = train_test_split(x_test, y_test, test_size=0.75, random_state=43)\n",
    "x_train_rc = x_train[:, :, :rc_num][:, 0]\n",
    "x_train_ox = x_train[:, :, -ox:]\n",
    "x_test_rc = x_test[:, :, :rc_num][:, 0]\n",
    "x_test_ox = x_test[:, :, -ox:]\n",
    "x_valid_rc = x_valid[:, :, :rc_num][:, 0]\n",
    "x_valid_ox = x_valid[:, :, -ox:]"
   ],
   "metadata": {
    "collapsed": false,
    "pycharm": {
     "name": "#%%\n"
    }
   }
  },
  {
   "cell_type": "code",
   "execution_count": null,
   "outputs": [],
   "source": [
    "class ExpandTileLayer(layers.Layer):\n",
    "    def __init__(self):\n",
    "        super(ExpandTileLayer, self).__init__()\n",
    "    def call(self, inputs, *args, **kwargs):\n",
    "        return backend.tile(backend.expand_dims(inputs, axis=-2), (1, 80, 1))"
   ],
   "metadata": {
    "collapsed": false,
    "pycharm": {
     "name": "#%%\n"
    }
   }
  },
  {
   "cell_type": "code",
   "execution_count": null,
   "outputs": [],
   "source": [
    "def build_model(hp):\n",
    "    rc_input = keras.Input(shape=(train_x_rc.shape[-1], ),\n",
    "                           dtype='float32',\n",
    "                           name='rc_input_layer')\n",
    "    other_x_input = keras.Input(shape=(80, train_x_other.shape[-1]),\n",
    "                                dtype='float32',\n",
    "                                name='other_x_input')\n",
    "    rc_embedding_layer = layers.Dense(units=hp.Choice('units_emb', [8, 16, 32]),\n",
    "                                      use_bias=False, name='rc_embed_layer')\n",
    "    rc_embedding = rc_embedding_layer(rc_input)\n",
    "\n",
    "    # 维度拓展\n",
    "    rc_embedding = ExpandTileLayer()(rc_embedding)\n",
    "\n",
    "    x_input = layers.Concatenate(axis=-1)([other_x_input, rc_embedding])\n",
    "    ox = layers.Bidirectional(layers.LSTM(units=hp.Choice('units_0', [64, 128, 256]),\n",
    "                                          return_sequences=True,\n",
    "                                          kernel_initializer=initializers.initializers_v2.GlorotUniform()),\n",
    "                              merge_mode='concat')(x_input)\n",
    "    for i in range(hp.Int('num_layers', min_value=1, max_value=2, step=1)):\n",
    "        ox = layers.Bidirectional(layers.LSTM(units=hp.Choice('units_'+str(i), [64, 128, 256]),\n",
    "                                              return_sequences=True,\n",
    "                                              kernel_initializer=initializers.initializers_v2.GlorotUniform()),\n",
    "                                  merge_mode='concat')(ox)\n",
    "    ox = layers.Dense(units=hp.Choice('units_d1', [64, 128, 256]),\n",
    "                      kernel_initializer=initializers.initializers_v2.GlorotUniform())(ox)\n",
    "    if hp.Choice('d2_activation', ['prelu', 'elu']) == 'prelu':\n",
    "        lstm_output = layers.PReLU()(ox)\n",
    "    else:\n",
    "        lstm_output = layers.ELU()(ox)\n",
    "\n",
    "    conv1d_1 = layers.Conv1D(filters=hp.Choice('conv1d_1_filter', [64, 128, 256]),\n",
    "                             kernel_size=hp.Choice('cov1d_1_size', [5, 11]),\n",
    "                             padding='same', use_bias=False)(x_input)\n",
    "    conv1d_1 = layers.BatchNormalization()(conv1d_1)\n",
    "    conv1d_1 = layers.ReLU()(conv1d_1)\n",
    "    conv1d_2 = layers.Conv1D(filters=64, padding='same', use_bias=False,\n",
    "                             kernel_size=hp.Choice('conv1d_2_size', [5, 7]))(conv1d_1)\n",
    "    conv1d_2 = layers.BatchNormalization()(conv1d_2)\n",
    "    conv1d_output = layers.ReLU()(conv1d_2)\n",
    "\n",
    "    output = layers.Concatenate(axis=-1)([lstm_output, conv1d_output])\n",
    "    output = layers.Dense(units=hp.Choice('final_units', [128, 256]),\n",
    "                          activation=activations.relu,\n",
    "                          kernel_initializer=initializers.initializers_v2.GlorotUniform())(output)\n",
    "    output = layers.Dense(units=1,\n",
    "                          kernel_initializer=initializers.initializers_v2.GlorotUniform())(output)\n",
    "\n",
    "    my_model = models.Model(inputs=[rc_input, other_x_input], outputs=[output])\n",
    "    my_model.compile(loss=losses.MeanAbsoluteError(),\n",
    "                     optimizer=optimizers.Adam(),\n",
    "                     metrics=[metrics.MeanAbsoluteError()])\n",
    "    return my_model"
   ],
   "metadata": {
    "collapsed": false,
    "pycharm": {
     "name": "#%%\n"
    }
   }
  },
  {
   "cell_type": "code",
   "execution_count": null,
   "outputs": [],
   "source": [
    "tuner = kt.RandomSearch(\n",
    "    build_model,\n",
    "    objective='val_loss',\n",
    "    max_trials=5,\n",
    "    executions_per_trial=2,\n",
    "    overwrite=True,\n",
    "    directory='../tuner',\n",
    "    project_name='ventilator'\n",
    ")"
   ],
   "metadata": {
    "collapsed": false,
    "pycharm": {
     "name": "#%%\n"
    }
   }
  },
  {
   "cell_type": "code",
   "execution_count": null,
   "outputs": [],
   "source": [
    "print(tuner.search_space_summary())"
   ],
   "metadata": {
    "collapsed": false,
    "pycharm": {
     "name": "#%%\n"
    }
   }
  },
  {
   "cell_type": "code",
   "execution_count": null,
   "outputs": [],
   "source": [
    "tuner.search([x_train_rc, x_train_ox], y_train,\n",
    "             validation_data=([x_test_rc, x_test_ox], y_test),\n",
    "             epochs=25,\n",
    "             batch_size=32)"
   ],
   "metadata": {
    "collapsed": false,
    "pycharm": {
     "name": "#%%\n"
    }
   }
  }
 ],
 "metadata": {
  "kernelspec": {
   "display_name": "Python 3",
   "language": "python",
   "name": "python3"
  },
  "language_info": {
   "codemirror_mode": {
    "name": "ipython",
    "version": 2
   },
   "file_extension": ".py",
   "mimetype": "text/x-python",
   "name": "python",
   "nbconvert_exporter": "python",
   "pygments_lexer": "ipython2",
   "version": "2.7.6"
  },
  "pycharm": {
   "stem_cell": {
    "cell_type": "raw",
    "source": [
     "%%\n",
     "# from tensorflow import keras"
    ],
    "metadata": {
     "collapsed": false
    }
   }
  }
 },
 "nbformat": 4,
 "nbformat_minor": 0
}