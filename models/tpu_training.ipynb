{
 "metadata": {
  "kernelspec": {
   "language": "python",
   "display_name": "Python 3",
   "name": "python3"
  },
  "language_info": {
   "name": "python",
   "version": "3.7.10",
   "mimetype": "text/x-python",
   "codemirror_mode": {
    "name": "ipython",
    "version": 3
   },
   "pygments_lexer": "ipython3",
   "nbconvert_exporter": "python",
   "file_extension": ".py"
  }
 },
 "nbformat_minor": 4,
 "nbformat": 4,
 "cells": [
  {
   "cell_type": "code",
   "source": [
    "# This Python 3 environment comes with many helpful analytics libraries installed\n",
    "# It is defined by the kaggle/python Docker image: https://github.com/kaggle/docker-python\n",
    "# For example, here's several helpful packages to load\n",
    "\n",
    "import numpy as np # linear algebra\n",
    "import pandas as pd # data processing, CSV file I/O (e.g. pd.read_csv)\n",
    "\n",
    "# Input data files are available in the read-only \"../input/\" directory\n",
    "# For example, running this (by clicking run or pressing Shift+Enter) will list all files under the input directory\n",
    "\n",
    "import os\n",
    "for dirname, _, filenames in os.walk('/kaggle/input'):\n",
    "    for filename in filenames:\n",
    "        print(os.path.join(dirname, filename))\n",
    "\n",
    "# You can write up to 20GB to the current directory (/kaggle/working/) that gets preserved as output when you create a version using \"Save & Run All\" \n",
    "# You can also write temporary files to /kaggle/temp/, but they won't be saved outside of the current session"
   ],
   "metadata": {
    "_uuid": "8f2839f25d086af736a60e9eeb907d3b93b6e0e5",
    "_cell_guid": "b1076dfc-b9ad-4769-8c92-a6c4dae69d19",
    "trusted": true
   },
   "execution_count": null,
   "outputs": []
  },
  {
   "cell_type": "code",
   "source": [
    "import numpy as np\n",
    "import pandas as pd\n",
    "from sklearn.preprocessing import StandardScaler\n",
    "\n",
    "train_ori = pd.read_csv('../input/ventilator-pressure-prediction/train.csv', index_col=None, header=0)\n",
    "\n",
    "\n",
    "def add_features(df):\n",
    "    df['area'] = df['time_step'] * df['u_in']\n",
    "    df['area'] = df.groupby('breath_id')['area'].cumsum()\n",
    "\n",
    "    df['u_in_cumsum'] = (df['u_in']).groupby(df['breath_id']).cumsum()\n",
    "\n",
    "    df['u_in_lag1'] = df.groupby('breath_id')['u_in'].shift(1)\n",
    "    # df['u_out_lag1'] = df.groupby('breath_id')['u_out'].shift(1)\n",
    "    # df['u_in_lag_back1'] = df.groupby('breath_id')['u_in'].shift(-1)\n",
    "    # df['u_out_lag_back1'] = df.groupby('breath_id')['u_out'].shift(-1)\n",
    "    # df['u_in_lag2'] = df.groupby('breath_id')['u_in'].shift(2)\n",
    "    # df['u_out_lag2'] = df.groupby('breath_id')['u_out'].shift(2)\n",
    "    # df['u_in_lag_back2'] = df.groupby('breath_id')['u_in'].shift(-2)\n",
    "    # df['u_out_lag_back2'] = df.groupby('breath_id')['u_out'].shift(-2)\n",
    "    # df['u_in_lag3'] = df.groupby('breath_id')['u_in'].shift(3)\n",
    "    # df['u_out_lag3'] = df.groupby('breath_id')['u_out'].shift(3)\n",
    "    # df['u_in_lag_back3'] = df.groupby('breath_id')['u_in'].shift(-3)\n",
    "    # df['u_out_lag_back3'] = df.groupby('breath_id')['u_out'].shift(-3)\n",
    "    # df['u_in_lag4'] = df.groupby('breath_id')['u_in'].shift(4)\n",
    "    # df['u_out_lag4'] = df.groupby('breath_id')['u_out'].shift(4)\n",
    "    # df['u_in_lag_back4'] = df.groupby('breath_id')['u_in'].shift(-4)\n",
    "    # df['u_out_lag_back4'] = df.groupby('breath_id')['u_out'].shift(-4)\n",
    "    df = df.fillna(0)\n",
    "\n",
    "    df['breath_id__u_in__max'] = df.groupby(['breath_id'])['u_in'].transform('max')\n",
    "    # df['breath_id__u_out__max'] = df.groupby(['breath_id'])['u_out'].transform('max')\n",
    "\n",
    "    df['u_in_diff1'] = df['u_in'] - df['u_in_lag1']\n",
    "    # df['u_out_diff1'] = df['u_out'] - df['u_out_lag1']\n",
    "    df.drop(['u_in_lag1'], axis=1)\n",
    "    # df.drop(['u_out_lag1'], axis=1)\n",
    "    # df['u_in_diff2'] = df['u_in'] - df['u_in_lag2']\n",
    "    # df['u_out_diff2'] = df['u_out'] - df['u_out_lag2']\n",
    "\n",
    "    # df['breath_id__u_in__diffmax'] = df.groupby(['breath_id'])['u_in'].transform('max') - df['u_in']\n",
    "    # df['breath_id__u_in__diffmean'] = df.groupby(['breath_id'])['u_in'].transform('mean') - df['u_in']\n",
    "\n",
    "    # df['u_in_diff3'] = df['u_in'] - df['u_in_lag3']\n",
    "    # df['u_out_diff3'] = df['u_out'] - df['u_out_lag3']\n",
    "    # df['u_in_diff4'] = df['u_in'] - df['u_in_lag4']\n",
    "    # df['u_out_diff4'] = df['u_out'] - df['u_out_lag4']\n",
    "    df['cross'] = df['u_in'] * df['u_out']\n",
    "    df['cross2'] = df['time_step'] * df['u_out']\n",
    "\n",
    "    df['R'] = df['R'].astype(str)\n",
    "    df['C'] = df['C'].astype(str)\n",
    "    df['R__C'] = df[\"R\"].astype(str) + '__' + df[\"C\"].astype(str)\n",
    "    df = pd.get_dummies(df)\n",
    "    return df\n",
    "\n",
    "\n",
    "train = add_features(train_ori)"
   ],
   "metadata": {
    "trusted": true
   },
   "execution_count": null,
   "outputs": []
  },
  {
   "cell_type": "code",
   "source": [
    "targets = train[['pressure']].to_numpy().reshape(-1, 80)\n",
    "train.drop(['pressure', 'id', 'breath_id'], axis=1, inplace=True)\n",
    "train = train.values"
   ],
   "metadata": {
    "execution": {
     "iopub.status.busy": "2021-10-14T07:42:46.398034Z",
     "iopub.execute_input": "2021-10-14T07:42:46.398266Z",
     "iopub.status.idle": "2021-10-14T07:42:47.848809Z",
     "shell.execute_reply.started": "2021-10-14T07:42:46.398239Z",
     "shell.execute_reply": "2021-10-14T07:42:47.847851Z"
    },
    "trusted": true
   },
   "execution_count": 2,
   "outputs": []
  },
  {
   "cell_type": "code",
   "source": [
    "train_x_other = train[:, :-15]\n",
    "train_x_rc = train[:, -15:]"
   ],
   "metadata": {
    "execution": {
     "iopub.status.busy": "2021-10-14T07:43:41.579750Z",
     "iopub.execute_input": "2021-10-14T07:43:41.580064Z",
     "iopub.status.idle": "2021-10-14T07:43:41.586971Z",
     "shell.execute_reply.started": "2021-10-14T07:43:41.580029Z",
     "shell.execute_reply": "2021-10-14T07:43:41.585977Z"
    },
    "trusted": true
   },
   "execution_count": 3,
   "outputs": []
  },
  {
   "cell_type": "code",
   "source": [
    "scale = StandardScaler()\n",
    "scale.fit(train_x_other)\n",
    "train_x_other = scale.transform(train_x_other)\n",
    "train_x_other = train_x_other.reshape(-1, 80, train_x_other.shape[-1])\n",
    "train_x_rc = train_x_rc.reshape(-1, 80, train_x_rc.shape[-1])"
   ],
   "metadata": {
    "execution": {
     "iopub.status.busy": "2021-10-14T07:43:43.227174Z",
     "iopub.execute_input": "2021-10-14T07:43:43.227472Z",
     "iopub.status.idle": "2021-10-14T07:43:51.139311Z",
     "shell.execute_reply.started": "2021-10-14T07:43:43.227442Z",
     "shell.execute_reply": "2021-10-14T07:43:51.138272Z"
    },
    "trusted": true
   },
   "execution_count": 4,
   "outputs": []
  },
  {
   "cell_type": "code",
   "source": [
    "np.save('./train_x_rc.npy', train_x_rc)\n",
    "np.save('./train_x_other.npy', train_x_other)\n",
    "np.save('./target.npy', targets)"
   ],
   "metadata": {
    "execution": {
     "iopub.status.busy": "2021-10-14T07:44:09.226802Z",
     "iopub.execute_input": "2021-10-14T07:44:09.227634Z"
    },
    "trusted": true
   },
   "execution_count": null,
   "outputs": []
  },
  {
   "cell_type": "code",
   "source": [],
   "metadata": {},
   "execution_count": null,
   "outputs": []
  },
  {
   "cell_type": "code",
   "source": [
    "from tensorflow.python.keras import models\n",
    "from tensorflow.python.keras import layers\n",
    "from tensorflow.python.keras import losses\n",
    "from tensorflow.keras import optimizers\n",
    "from tensorflow.python.keras import activations\n",
    "from tensorflow.python.keras import callbacks\n",
    "from tensorflow.python.keras import initializers\n",
    "from tensorflow.python.keras import backend\n",
    "from tensorflow.python.keras import metrics\n",
    "from tensorflow import keras\n",
    "import tensorflow as tf\n",
    "import keras_tuner as kt\n",
    "import numpy as np\n",
    "from sklearn.model_selection import train_test_split"
   ],
   "metadata": {
    "trusted": true
   },
   "execution_count": null,
   "outputs": []
  },
  {
   "cell_type": "code",
   "source": [
    "train_x_rc = np.load('./train_x_rc.npy')\n",
    "train_x_other = np.load('./train_x_other.npy')\n",
    "targets = np.load('./target.npy')\n",
    "print(train_x_other.shape)\n",
    "print(train_x_rc.shape)\n",
    "print(targets.shape)"
   ],
   "metadata": {},
   "execution_count": null,
   "outputs": []
  }
 ]
}