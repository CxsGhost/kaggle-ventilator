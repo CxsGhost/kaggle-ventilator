{
 "cells": [
  {
   "cell_type": "code",
   "execution_count": null,
   "metadata": {
    "collapsed": true
   },
   "outputs": [],
   "source": [
    "from tensorflow.python.keras import models\n",
    "from tensorflow.keras import layers\n",
    "from tensorflow.python.keras import losses\n",
    "from tensorflow.keras import optimizers\n",
    "from tensorflow.python.keras import activations\n",
    "from tensorflow.python.keras import initializers\n",
    "from tensorflow.python.keras import backend\n",
    "from tensorflow.python.keras import metrics\n",
    "from tensorflow.python import keras\n",
    "import tensorflow as tf\n",
    "import numpy as np\n",
    "import pandas as pd"
   ]
  },
  {
   "cell_type": "code",
   "execution_count": null,
   "outputs": [],
   "source": [
    "test_x_rc = np.load('')\n",
    "test_x_other = np.load('')"
   ],
   "metadata": {
    "collapsed": false,
    "pycharm": {
     "name": "#%%\n"
    }
   }
  },
  {
   "cell_type": "code",
   "execution_count": null,
   "outputs": [],
   "source": [
    "\n",
    "class ExpandTileLayer(layers.Layer):\n",
    "    def __init__(self):\n",
    "        super(ExpandTileLayer, self).__init__()\n",
    "    def call(self, inputs, *args, **kwargs):\n",
    "        return backend.tile(backend.expand_dims(inputs, axis=-2), (1, 80, 1))"
   ],
   "metadata": {
    "collapsed": false,
    "pycharm": {
     "name": "#%%\n"
    }
   }
  },
  {
   "cell_type": "code",
   "execution_count": null,
   "outputs": [],
   "source": [
    "tpu = tf.distribute.cluster_resolver.TPUClusterResolver.connect()\n",
    "\n",
    "# instantiate a distribution strategy\n",
    "tpu_strategy = tf.distribute.experimental.TPUStrategy(tpu)\n",
    "\n",
    "# instantiating the model in the strategy scope creates the model on the TPU\n",
    "with tpu_strategy.scope():\n",
    "\n",
    "\n",
    "    #%%\n",
    "\n",
    "    rc_input = keras.Input(shape=(test_x_rc.shape[-1], ),\n",
    "                           dtype='int32',\n",
    "                           name='rc_input_layer')\n",
    "    other_x_input = keras.Input(shape=(80, test_x_other.shape[-1]),\n",
    "                                dtype='float32',\n",
    "                                name='other_x_input')\n",
    "    rc_embedding_layer = layers.Dense(units=32,\n",
    "                                      use_bias=False, name='rc_embed_layer')\n",
    "    rc_embedding = rc_embedding_layer(rc_input)\n",
    "\n",
    "    # 维度拓展\n",
    "    rc_embedding = ExpandTileLayer()(rc_embedding)\n",
    "\n",
    "    x_input = layers.Concatenate(axis=-1)([other_x_input, rc_embedding])\n",
    "    ox = layers.Bidirectional(layers.LSTM(units=128,\n",
    "                                          return_sequences=True,\n",
    "                                          kernel_initializer=initializers.initializers_v2.GlorotUniform()),\n",
    "                              merge_mode='concat')(x_input)\n",
    "\n",
    "    ox = layers.Bidirectional(layers.LSTM(units=64,\n",
    "                                          return_sequences=True,\n",
    "                                          kernel_initializer=initializers.initializers_v2.GlorotUniform()),\n",
    "                              merge_mode='concat')(ox)\n",
    "    ox = layers.Dense(units=128,\n",
    "                      kernel_initializer=initializers.initializers_v2.GlorotUniform())(ox)\n",
    "    # if hp.Choice('d2_activation', ['prelu', 'elu']) == 'prelu':\n",
    "    lstm_output = layers.ELU()(ox)\n",
    "    # else:\n",
    "    #     lstm_output = layers.ELU()(ox)\n",
    "\n",
    "    conv1d_1 = layers.Conv1D(filters=256,\n",
    "                             kernel_size=11,\n",
    "                             padding='same', use_bias=False)(x_input)\n",
    "    conv1d_1 = layers.BatchNormalization()(conv1d_1)\n",
    "    conv1d_1 = layers.ReLU()(conv1d_1)\n",
    "    conv1d_2 = layers.Conv1D(filters=128, padding='same', use_bias=False,\n",
    "                             kernel_size=5)(conv1d_1)\n",
    "    conv1d_2 = layers.BatchNormalization()(conv1d_2)\n",
    "    conv1d_output = layers.ReLU()(conv1d_2)\n",
    "\n",
    "    output = layers.Concatenate(axis=-1)([lstm_output, conv1d_output])\n",
    "    output = layers.Dense(units=256,\n",
    "                          activation=activations.relu,\n",
    "                          kernel_initializer=initializers.initializers_v2.GlorotUniform())(output)\n",
    "    output = layers.Dense(units=1,\n",
    "                          kernel_initializer=initializers.initializers_v2.GlorotUniform())(output)\n",
    "\n",
    "    my_model = models.Model(inputs=[rc_input, other_x_input], outputs=[output])\n",
    "\n",
    "    # my_callbacks = [callbacks.ReduceLROnPlateau(monitor='val_loss', factor=0.5, patience=15, verbose=1),\n",
    "    #                 callbacks.EarlyStopping(monitor='val_loss', patience=46, verbose=1, mode='min', restore_best_weights=True)]\n",
    "    my_model.compile(loss=losses.MeanAbsoluteError(),\n",
    "                     optimizer=optimizers.Adam(),\n",
    "                     metrics=[metrics.MeanAbsoluteError()])"
   ],
   "metadata": {
    "collapsed": false,
    "pycharm": {
     "name": "#%%\n"
    }
   }
  },
  {
   "cell_type": "code",
   "execution_count": null,
   "outputs": [],
   "source": [
    "my_model.load_weights('')\n",
    "pre_y = my_model.predict(x=[test_x_rc, test_x_other], batch_size=1024)\n",
    "pre_y = np.array(pre_y).flatten()\n",
    "pre_y = np.vstack([np.arange(1, pre_y.shape[0] + 1), pre_y])\n",
    "pre_y = np.transpose(pre_y, axes=(1, 0))\n",
    "pre_y = pd.DataFrame(pre_y, columns=['id', 'pressure'])\n",
    "pre_y.to_csv('./submission.csv', index=False)\n",
    "\n"
   ],
   "metadata": {
    "collapsed": false,
    "pycharm": {
     "name": "#%%\n"
    }
   }
  }
 ],
 "metadata": {
  "kernelspec": {
   "display_name": "Python 3",
   "language": "python",
   "name": "python3"
  },
  "language_info": {
   "codemirror_mode": {
    "name": "ipython",
    "version": 2
   },
   "file_extension": ".py",
   "mimetype": "text/x-python",
   "name": "python",
   "nbconvert_exporter": "python",
   "pygments_lexer": "ipython2",
   "version": "2.7.6"
  }
 },
 "nbformat": 4,
 "nbformat_minor": 0
}