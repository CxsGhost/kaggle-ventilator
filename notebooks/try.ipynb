{
 "cells": [
  {
   "cell_type": "code",
   "execution_count": 12,
   "metadata": {
    "collapsed": true
   },
   "outputs": [
    {
     "name": "stdout",
     "output_type": "stream",
     "text": [
      "tf.Tensor(\n",
      "[[[1 2 3]]\n",
      "\n",
      " [[4 5 6]]], shape=(2, 1, 3), dtype=int32)\n"
     ]
    }
   ],
   "source": [
    "from tensorflow.python.keras import layers\n",
    "from tensorflow.python.keras import backend\n",
    "import tensorflow as tf\n",
    "import numpy as np\n",
    "\n",
    "a = np.zeros((2, 2, 3))\n",
    "b = tf.constant([[1, 2, 3],\n",
    "                 [4, 5, 6]])\n",
    "print(backend.expand_dims(b, axis=-2))\n",
    "c = backend.tile(backend.expand_dims(b, axis=-2), (1, 80, 1))"
   ]
  },
  {
   "cell_type": "code",
   "execution_count": 10,
   "outputs": [
    {
     "name": "stdout",
     "output_type": "stream",
     "text": [
      "(2, 2, 1)\n",
      "   id  pressure\n",
      "0   1         1\n",
      "1   2         2\n",
      "2   3         3\n",
      "3   4         5\n"
     ]
    }
   ],
   "source": [
    "import tensorflow as tf\n",
    "import numpy as np\n",
    "\n",
    "a = tf.constant([[[1],\n",
    "                  [2]],\n",
    "                 [[3],\n",
    "                 [5]]])\n",
    "print(a.shape)\n",
    "a = np.array(a).flatten()\n",
    "b = np.arange(1, a.shape[0] + 1)\n",
    "a = np.vstack([b, a])\n",
    "a = np.transpose(a, axes=(1, 0))\n",
    "import pandas\n",
    "a = pandas.DataFrame(a, columns=['id', 'pressure'])\n",
    "a.to_csv('./test_sub.csv')"
   ],
   "metadata": {
    "collapsed": false,
    "pycharm": {
     "name": "#%%\n"
    }
   }
  },
  {
   "cell_type": "code",
   "execution_count": null,
   "outputs": [],
   "source": [
    "class ExpandLayer(layers.Layer):\n",
    "    def __init__(self):\n",
    "        super(ExpandLayer, self).__init__()\n",
    "    def call(self, inputs, *args, **kwargs):\n",
    "        return backend.expand_dims(inputs, axis=-1)\n",
    "c = layers.Concatenate(axis=-1)([a, b])\n",
    "print(c)"
   ],
   "metadata": {
    "collapsed": false,
    "pycharm": {
     "name": "#%%\n"
    }
   }
  }
 ],
 "metadata": {
  "kernelspec": {
   "display_name": "Python 3",
   "language": "python",
   "name": "python3"
  },
  "language_info": {
   "codemirror_mode": {
    "name": "ipython",
    "version": 2
   },
   "file_extension": ".py",
   "mimetype": "text/x-python",
   "name": "python",
   "nbconvert_exporter": "python",
   "pygments_lexer": "ipython2",
   "version": "2.7.6"
  }
 },
 "nbformat": 4,
 "nbformat_minor": 0
}