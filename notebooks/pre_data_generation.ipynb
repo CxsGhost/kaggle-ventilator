{
 "cells": [
  {
   "cell_type": "code",
   "execution_count": null,
   "metadata": {
    "collapsed": true
   },
   "outputs": [],
   "source": [
    "# from tensorflow.python.keras import models\n",
    "# from tensorflow.keras import layers\n",
    "# from tensorflow.python.keras import losses\n",
    "# from tensorflow.keras import optimizers\n",
    "# from tensorflow.python.keras import activations\n",
    "# from tensorflow.python.keras import callbacks\n",
    "# from tensorflow.python.keras import initializers\n",
    "# from tensorflow.python.keras import backend\n",
    "# from tensorflow.python.keras import metrics\n",
    "# from tensorflow.python import keras\n",
    "# import tensorflow as tf\n",
    "import numpy as np\n",
    "import pandas as pd\n",
    "from sklearn.preprocessing import StandardScaler"
   ]
  },
  {
   "cell_type": "code",
   "execution_count": null,
   "outputs": [],
   "source": [
    "train_x_other = np.load('../input/ventilator-traindata/train_x_other.npy')\n",
    "print(train_x_other.shape)\n",
    "\n",
    "\n",
    "test_ori = pd.read_csv('../data/test.csv', index_col=None, header=0)\n",
    "\n",
    "\n",
    "def add_features(df):\n",
    "    df['area'] = df['time_step'] * df['u_in']\n",
    "    df['area'] = df.groupby('breath_id')['area'].cumsum()\n",
    "\n",
    "    df['u_in_cumsum'] = (df['u_in']).groupby(df['breath_id']).cumsum()\n",
    "\n",
    "    df['u_in_lag1'] = df.groupby('breath_id')['u_in'].shift(1)\n",
    "    # df['u_out_lag1'] = df.groupby('breath_id')['u_out'].shift(1)\n",
    "    # df['u_in_lag_back1'] = df.groupby('breath_id')['u_in'].shift(-1)\n",
    "    # df['u_out_lag_back1'] = df.groupby('breath_id')['u_out'].shift(-1)\n",
    "    # df['u_in_lag2'] = df.groupby('breath_id')['u_in'].shift(2)\n",
    "    # df['u_out_lag2'] = df.groupby('breath_id')['u_out'].shift(2)\n",
    "    # df['u_in_lag_back2'] = df.groupby('breath_id')['u_in'].shift(-2)\n",
    "    # df['u_out_lag_back2'] = df.groupby('breath_id')['u_out'].shift(-2)\n",
    "    # df['u_in_lag3'] = df.groupby('breath_id')['u_in'].shift(3)\n",
    "    # df['u_out_lag3'] = df.groupby('breath_id')['u_out'].shift(3)\n",
    "    # df['u_in_lag_back3'] = df.groupby('breath_id')['u_in'].shift(-3)\n",
    "    # df['u_out_lag_back3'] = df.groupby('breath_id')['u_out'].shift(-3)\n",
    "    # df['u_in_lag4'] = df.groupby('breath_id')['u_in'].shift(4)\n",
    "    # df['u_out_lag4'] = df.groupby('breath_id')['u_out'].shift(4)\n",
    "    # df['u_in_lag_back4'] = df.groupby('breath_id')['u_in'].shift(-4)\n",
    "    # df['u_out_lag_back4'] = df.groupby('breath_id')['u_out'].shift(-4)\n",
    "    df = df.fillna(0)\n",
    "\n",
    "    df['breath_id__u_in__max'] = df.groupby(['breath_id'])['u_in'].transform('max')\n",
    "    # df['breath_id__u_out__max'] = df.groupby(['breath_id'])['u_out'].transform('max')\n",
    "\n",
    "    df['u_in_diff1'] = df['u_in'] - df['u_in_lag1']\n",
    "    # df['u_out_diff1'] = df['u_out'] - df['u_out_lag1']\n",
    "    df.drop(['u_in_lag1'], axis=1)\n",
    "    # df.drop(['u_out_lag1'], axis=1)\n",
    "    # df['u_in_diff2'] = df['u_in'] - df['u_in_lag2']\n",
    "    # df['u_out_diff2'] = df['u_out'] - df['u_out_lag2']\n",
    "\n",
    "    # df['breath_id__u_in__diffmax'] = df.groupby(['breath_id'])['u_in'].transform('max') - df['u_in']\n",
    "    # df['breath_id__u_in__diffmean'] = df.groupby(['breath_id'])['u_in'].transform('mean') - df['u_in']\n",
    "\n",
    "    # df['u_in_diff3'] = df['u_in'] - df['u_in_lag3']\n",
    "    # df['u_out_diff3'] = df['u_out'] - df['u_out_lag3']\n",
    "    # df['u_in_diff4'] = df['u_in'] - df['u_in_lag4']\n",
    "    # df['u_out_diff4'] = df['u_out'] - df['u_out_lag4']\n",
    "    df['cross'] = df['u_in'] * df['u_out']\n",
    "    df['cross2'] = df['time_step'] * df['u_out']\n",
    "\n",
    "    df['R'] = df['R'].astype(str)\n",
    "    df['C'] = df['C'].astype(str)\n",
    "    df['R__C'] = df[\"R\"].astype(str) + '__' + df[\"C\"].astype(str)\n",
    "    df = pd.get_dummies(df)\n",
    "    return df\n",
    "\n",
    "\n",
    "test = add_features(test_ori)\n",
    "test.drop(['id', 'breath_id'], axis=1, inplace=True)\n",
    "test = test.values\n",
    "test_x_rc = test[:, -15:]\n",
    "test_x_other = test[:, :-15]\n",
    "scale = StandardScaler()\n",
    "scale.fit(train_x_other)\n",
    "test_x_other = scale.transform(test_x_other)"
   ],
   "metadata": {
    "collapsed": false,
    "pycharm": {
     "name": "#%%\n"
    }
   }
  },
  {
   "cell_type": "code",
   "execution_count": null,
   "outputs": [],
   "source": [
    "np.save('../data/test_x_rc.npy', test_x_rc)\n",
    "np.save('../data/test_x_other.npy', test_x_other)"
   ],
   "metadata": {
    "collapsed": false,
    "pycharm": {
     "name": "#%%\n"
    }
   }
  }
 ],
 "metadata": {
  "kernelspec": {
   "display_name": "Python 3",
   "language": "python",
   "name": "python3"
  },
  "language_info": {
   "codemirror_mode": {
    "name": "ipython",
    "version": 2
   },
   "file_extension": ".py",
   "mimetype": "text/x-python",
   "name": "python",
   "nbconvert_exporter": "python",
   "pygments_lexer": "ipython2",
   "version": "2.7.6"
  }
 },
 "nbformat": 4,
 "nbformat_minor": 0
}